{
 "cells": [
  {
   "cell_type": "code",
   "execution_count": 1,
   "id": "59002e6d",
   "metadata": {},
   "outputs": [],
   "source": [
    "import numpy as np\n",
    "import pandas as pd \n",
    "import matplotlib.pyplot as plt\n",
    "import warnings\n",
    "warnings.filterwarnings('ignore')\n",
    "import seaborn as sns"
   ]
  },
  {
   "cell_type": "code",
   "execution_count": 2,
   "id": "f8fe75e0",
   "metadata": {},
   "outputs": [],
   "source": [
    "df= pd.read_csv(\"Titanic.csv\")"
   ]
  },
  {
   "cell_type": "code",
   "execution_count": 3,
   "id": "910b9bdc",
   "metadata": {},
   "outputs": [
    {
     "data": {
      "text/html": [
       "<div>\n",
       "<style scoped>\n",
       "    .dataframe tbody tr th:only-of-type {\n",
       "        vertical-align: middle;\n",
       "    }\n",
       "\n",
       "    .dataframe tbody tr th {\n",
       "        vertical-align: top;\n",
       "    }\n",
       "\n",
       "    .dataframe thead th {\n",
       "        text-align: right;\n",
       "    }\n",
       "</style>\n",
       "<table border=\"1\" class=\"dataframe\">\n",
       "  <thead>\n",
       "    <tr style=\"text-align: right;\">\n",
       "      <th></th>\n",
       "      <th>PassengerId</th>\n",
       "      <th>Survived</th>\n",
       "      <th>Pclass</th>\n",
       "      <th>Name</th>\n",
       "      <th>Sex</th>\n",
       "      <th>Age</th>\n",
       "      <th>SibSp</th>\n",
       "      <th>Parch</th>\n",
       "      <th>Ticket</th>\n",
       "      <th>Fare</th>\n",
       "      <th>Cabin</th>\n",
       "      <th>Embarked</th>\n",
       "    </tr>\n",
       "  </thead>\n",
       "  <tbody>\n",
       "    <tr>\n",
       "      <th>0</th>\n",
       "      <td>1</td>\n",
       "      <td>0</td>\n",
       "      <td>3</td>\n",
       "      <td>Braund, Mr. Owen Harris</td>\n",
       "      <td>male</td>\n",
       "      <td>22.0</td>\n",
       "      <td>1</td>\n",
       "      <td>0</td>\n",
       "      <td>A/5 21171</td>\n",
       "      <td>7.2500</td>\n",
       "      <td>NaN</td>\n",
       "      <td>S</td>\n",
       "    </tr>\n",
       "    <tr>\n",
       "      <th>1</th>\n",
       "      <td>2</td>\n",
       "      <td>1</td>\n",
       "      <td>1</td>\n",
       "      <td>Cumings, Mrs. John Bradley (Florence Briggs Th...</td>\n",
       "      <td>female</td>\n",
       "      <td>38.0</td>\n",
       "      <td>1</td>\n",
       "      <td>0</td>\n",
       "      <td>PC 17599</td>\n",
       "      <td>71.2833</td>\n",
       "      <td>C85</td>\n",
       "      <td>C</td>\n",
       "    </tr>\n",
       "    <tr>\n",
       "      <th>2</th>\n",
       "      <td>3</td>\n",
       "      <td>1</td>\n",
       "      <td>3</td>\n",
       "      <td>Heikkinen, Miss. Laina</td>\n",
       "      <td>female</td>\n",
       "      <td>26.0</td>\n",
       "      <td>0</td>\n",
       "      <td>0</td>\n",
       "      <td>STON/O2. 3101282</td>\n",
       "      <td>7.9250</td>\n",
       "      <td>NaN</td>\n",
       "      <td>S</td>\n",
       "    </tr>\n",
       "    <tr>\n",
       "      <th>3</th>\n",
       "      <td>4</td>\n",
       "      <td>1</td>\n",
       "      <td>1</td>\n",
       "      <td>Futrelle, Mrs. Jacques Heath (Lily May Peel)</td>\n",
       "      <td>female</td>\n",
       "      <td>35.0</td>\n",
       "      <td>1</td>\n",
       "      <td>0</td>\n",
       "      <td>113803</td>\n",
       "      <td>53.1000</td>\n",
       "      <td>C123</td>\n",
       "      <td>S</td>\n",
       "    </tr>\n",
       "    <tr>\n",
       "      <th>4</th>\n",
       "      <td>5</td>\n",
       "      <td>0</td>\n",
       "      <td>3</td>\n",
       "      <td>Allen, Mr. William Henry</td>\n",
       "      <td>male</td>\n",
       "      <td>35.0</td>\n",
       "      <td>0</td>\n",
       "      <td>0</td>\n",
       "      <td>373450</td>\n",
       "      <td>8.0500</td>\n",
       "      <td>NaN</td>\n",
       "      <td>S</td>\n",
       "    </tr>\n",
       "  </tbody>\n",
       "</table>\n",
       "</div>"
      ],
      "text/plain": [
       "   PassengerId  Survived  Pclass  \\\n",
       "0            1         0       3   \n",
       "1            2         1       1   \n",
       "2            3         1       3   \n",
       "3            4         1       1   \n",
       "4            5         0       3   \n",
       "\n",
       "                                                Name     Sex   Age  SibSp  \\\n",
       "0                            Braund, Mr. Owen Harris    male  22.0      1   \n",
       "1  Cumings, Mrs. John Bradley (Florence Briggs Th...  female  38.0      1   \n",
       "2                             Heikkinen, Miss. Laina  female  26.0      0   \n",
       "3       Futrelle, Mrs. Jacques Heath (Lily May Peel)  female  35.0      1   \n",
       "4                           Allen, Mr. William Henry    male  35.0      0   \n",
       "\n",
       "   Parch            Ticket     Fare Cabin Embarked  \n",
       "0      0         A/5 21171   7.2500   NaN        S  \n",
       "1      0          PC 17599  71.2833   C85        C  \n",
       "2      0  STON/O2. 3101282   7.9250   NaN        S  \n",
       "3      0            113803  53.1000  C123        S  \n",
       "4      0            373450   8.0500   NaN        S  "
      ]
     },
     "execution_count": 3,
     "metadata": {},
     "output_type": "execute_result"
    }
   ],
   "source": [
    "df.head()"
   ]
  },
  {
   "cell_type": "code",
   "execution_count": 4,
   "id": "5ce8924a",
   "metadata": {},
   "outputs": [
    {
     "name": "stdout",
     "output_type": "stream",
     "text": [
      "<class 'pandas.core.frame.DataFrame'>\n",
      "RangeIndex: 891 entries, 0 to 890\n",
      "Data columns (total 12 columns):\n",
      " #   Column       Non-Null Count  Dtype  \n",
      "---  ------       --------------  -----  \n",
      " 0   PassengerId  891 non-null    int64  \n",
      " 1   Survived     891 non-null    int64  \n",
      " 2   Pclass       891 non-null    int64  \n",
      " 3   Name         891 non-null    object \n",
      " 4   Sex          891 non-null    object \n",
      " 5   Age          714 non-null    float64\n",
      " 6   SibSp        891 non-null    int64  \n",
      " 7   Parch        891 non-null    int64  \n",
      " 8   Ticket       891 non-null    object \n",
      " 9   Fare         891 non-null    float64\n",
      " 10  Cabin        204 non-null    object \n",
      " 11  Embarked     889 non-null    object \n",
      "dtypes: float64(2), int64(5), object(5)\n",
      "memory usage: 83.7+ KB\n"
     ]
    }
   ],
   "source": [
    "df.info()"
   ]
  },
  {
   "cell_type": "code",
   "execution_count": 5,
   "id": "3cf1bf2e",
   "metadata": {},
   "outputs": [],
   "source": [
    "df['Cabin']= df['Cabin'].fillna('Not Listed')"
   ]
  },
  {
   "cell_type": "code",
   "execution_count": 6,
   "id": "945a155c",
   "metadata": {},
   "outputs": [
    {
     "name": "stdout",
     "output_type": "stream",
     "text": [
      "<class 'pandas.core.frame.DataFrame'>\n",
      "RangeIndex: 891 entries, 0 to 890\n",
      "Data columns (total 12 columns):\n",
      " #   Column       Non-Null Count  Dtype  \n",
      "---  ------       --------------  -----  \n",
      " 0   PassengerId  891 non-null    int64  \n",
      " 1   Survived     891 non-null    int64  \n",
      " 2   Pclass       891 non-null    int64  \n",
      " 3   Name         891 non-null    object \n",
      " 4   Sex          891 non-null    object \n",
      " 5   Age          714 non-null    float64\n",
      " 6   SibSp        891 non-null    int64  \n",
      " 7   Parch        891 non-null    int64  \n",
      " 8   Ticket       891 non-null    object \n",
      " 9   Fare         891 non-null    float64\n",
      " 10  Cabin        891 non-null    object \n",
      " 11  Embarked     889 non-null    object \n",
      "dtypes: float64(2), int64(5), object(5)\n",
      "memory usage: 83.7+ KB\n"
     ]
    }
   ],
   "source": [
    "df.info()"
   ]
  },
  {
   "cell_type": "code",
   "execution_count": 7,
   "id": "36ad83d6",
   "metadata": {},
   "outputs": [],
   "source": [
    "df.dropna(inplace=True)"
   ]
  },
  {
   "cell_type": "code",
   "execution_count": 8,
   "id": "d4254897",
   "metadata": {},
   "outputs": [
    {
     "data": {
      "text/plain": [
       "0"
      ]
     },
     "execution_count": 8,
     "metadata": {},
     "output_type": "execute_result"
    }
   ],
   "source": [
    "df.duplicated().sum()"
   ]
  },
  {
   "cell_type": "code",
   "execution_count": 9,
   "id": "e596c6d0",
   "metadata": {},
   "outputs": [
    {
     "data": {
      "image/png": "[encoded data removed]",
      "text/plain": [
       "<Figure size 640x480 with 1 Axes>"
      ]
     },
     "metadata": {},
     "output_type": "display_data"
    }
   ],
   "source": [
    "pal= ['#00008B', '#F33A6A']\n",
    "a= sns.countplot(data= df, x= df['Survived'], hue=df['Sex'], palette= pal)\n",
    "for container in a.containers:\n",
    "    a.bar_label(container)\n",
    "plt.title(\"COUNT OF SURVIVORS AND CASUALTIES\")\n",
    "plt.xlabel(\"SURVIVED OR NOT\")\n",
    "plt.ylabel(\"COUNT\")\n",
    "plt.gca().set_xticklabels(['Casuality', 'Survived'])\n",
    "plt.show()"
   ]
  },
  {
   "cell_type": "code",
   "execution_count": 10,
   "id": "603bc2cf",
   "metadata": {},
   "outputs": [
    {
     "data": {
      "image/png": "[encoded data removed]",
      "text/plain": [
       "<Figure size 640x480 with 1 Axes>"
      ]
     },
     "metadata": {},
     "output_type": "display_data"
    }
   ],
   "source": [
    "pal1= ['#F33A6A', '#00008B']\n",
    "survivors= df[df['Survived']==1]\n",
    "sns.histplot(data= survivors, x= survivors['Age'], bins= 15, hue=survivors['Sex'], palette= pal1)\n",
    "plt.title(\"AGE OF SURVIVORS\")\n",
    "plt.xlabel('AGE')\n",
    "plt.ylabel('COUNT')\n",
    "plt.show()"
   ]
  },
  {
   "cell_type": "code",
   "execution_count": 11,
   "id": "a4b15e43",
   "metadata": {},
   "outputs": [
    {
     "data": {
      "image/png": "[encoded data removed]",
      "text/plain": [
       "<Figure size 640x480 with 1 Axes>"
      ]
     },
     "metadata": {},
     "output_type": "display_data"
    }
   ],
   "source": [
    "notsurvivors= df[df['Survived']==0]\n",
    "sns.histplot(data= notsurvivors, x= notsurvivors['Age'], bins= 15, hue= notsurvivors['Sex'], palette= pal)\n",
    "plt.title(\"AGE OF CASULATIES\")\n",
    "plt.xlabel('AGE')\n",
    "plt.ylabel('COUNT')\n",
    "plt.show()"
   ]
  },
  {
   "cell_type": "code",
   "execution_count": 12,
   "id": "743c6d01",
   "metadata": {},
   "outputs": [
    {
     "data": {
      "image/png": "[encoded data removed]",
      "text/plain": [
       "<Figure size 1000x600 with 1 Axes>"
      ]
     },
     "metadata": {},
     "output_type": "display_data"
    }
   ],
   "source": [
    "pal3=['#D84D4D', '#5ED84D','#D84D4D', '#5ED84D','#D84D4D', '#5ED84D']\n",
    "plt.figure(figsize=(10, 6))\n",
    "a=sns.countplot(data=df, x='Pclass', hue='Survived', palette= pal3)\n",
    "for container in a.containers:\n",
    "    a.bar_label(container)\n",
    "plt.title('SURVIVOR AND CASUALTY COUNT BY CLASS')\n",
    "plt.xlabel('CLASS')\n",
    "plt.ylabel('COUNT')\n",
    "plt.legend(title='Survived', labels=['No', 'Yes']) \n",
    "plt.gca().set_xticklabels(['Class 1', 'Class 2', 'Class 3'])\n",
    "plt.show()"
   ]
  },
  {
   "cell_type": "code",
   "execution_count": 13,
   "id": "16e1a7b8",
   "metadata": {},
   "outputs": [
    {
     "data": {
      "text/html": [
       "<style type=\"text/css\">\n",
       "#T_8ce32_row0_col0, #T_8ce32_row1_col1, #T_8ce32_row2_col2, #T_8ce32_row3_col3, #T_8ce32_row4_col4, #T_8ce32_row5_col5, #T_8ce32_row6_col6 {\n",
       "  background-color: #b40426;\n",
       "  color: #f1f1f1;\n",
       "}\n",
       "#T_8ce32_row0_col1 {\n",
       "  background-color: #6282ea;\n",
       "  color: #f1f1f1;\n",
       "}\n",
       "#T_8ce32_row0_col2 {\n",
       "  background-color: #7ea1fa;\n",
       "  color: #f1f1f1;\n",
       "}\n",
       "#T_8ce32_row0_col3 {\n",
       "  background-color: #f1ccb8;\n",
       "  color: #000000;\n",
       "}\n",
       "#T_8ce32_row0_col4, #T_8ce32_row4_col3 {\n",
       "  background-color: #84a7fc;\n",
       "  color: #f1f1f1;\n",
       "}\n",
       "#T_8ce32_row0_col5 {\n",
       "  background-color: #89acfd;\n",
       "  color: #000000;\n",
       "}\n",
       "#T_8ce32_row0_col6, #T_8ce32_row5_col4 {\n",
       "  background-color: #e4d9d2;\n",
       "  color: #000000;\n",
       "}\n",
       "#T_8ce32_row1_col0, #T_8ce32_row1_col2, #T_8ce32_row1_col3, #T_8ce32_row1_col6, #T_8ce32_row2_col4, #T_8ce32_row2_col5, #T_8ce32_row6_col1 {\n",
       "  background-color: #3b4cc0;\n",
       "  color: #f1f1f1;\n",
       "}\n",
       "#T_8ce32_row1_col4 {\n",
       "  background-color: #98b9ff;\n",
       "  color: #000000;\n",
       "}\n",
       "#T_8ce32_row1_col5 {\n",
       "  background-color: #7396f5;\n",
       "  color: #f1f1f1;\n",
       "}\n",
       "#T_8ce32_row2_col0 {\n",
       "  background-color: #7b9ff9;\n",
       "  color: #f1f1f1;\n",
       "}\n",
       "#T_8ce32_row2_col1 {\n",
       "  background-color: #5f7fe8;\n",
       "  color: #f1f1f1;\n",
       "}\n",
       "#T_8ce32_row2_col3 {\n",
       "  background-color: #485fd1;\n",
       "  color: #f1f1f1;\n",
       "}\n",
       "#T_8ce32_row2_col6 {\n",
       "  background-color: #c5d6f2;\n",
       "  color: #000000;\n",
       "}\n",
       "#T_8ce32_row3_col0 {\n",
       "  background-color: #f7ba9f;\n",
       "  color: #000000;\n",
       "}\n",
       "#T_8ce32_row3_col1 {\n",
       "  background-color: #90b2fe;\n",
       "  color: #000000;\n",
       "}\n",
       "#T_8ce32_row3_col2 {\n",
       "  background-color: #7a9df8;\n",
       "  color: #f1f1f1;\n",
       "}\n",
       "#T_8ce32_row3_col4 {\n",
       "  background-color: #a3c2fe;\n",
       "  color: #000000;\n",
       "}\n",
       "#T_8ce32_row3_col5 {\n",
       "  background-color: #b6cefa;\n",
       "  color: #000000;\n",
       "}\n",
       "#T_8ce32_row3_col6 {\n",
       "  background-color: #d6dce4;\n",
       "  color: #000000;\n",
       "}\n",
       "#T_8ce32_row4_col0 {\n",
       "  background-color: #8db0fe;\n",
       "  color: #000000;\n",
       "}\n",
       "#T_8ce32_row4_col1 {\n",
       "  background-color: #bfd3f6;\n",
       "  color: #000000;\n",
       "}\n",
       "#T_8ce32_row4_col2 {\n",
       "  background-color: #465ecf;\n",
       "  color: #f1f1f1;\n",
       "}\n",
       "#T_8ce32_row4_col5 {\n",
       "  background-color: #d8dce2;\n",
       "  color: #000000;\n",
       "}\n",
       "#T_8ce32_row4_col6 {\n",
       "  background-color: #cedaeb;\n",
       "  color: #000000;\n",
       "}\n",
       "#T_8ce32_row5_col0, #T_8ce32_row6_col5 {\n",
       "  background-color: #aac7fd;\n",
       "  color: #000000;\n",
       "}\n",
       "#T_8ce32_row5_col1 {\n",
       "  background-color: #b7cff9;\n",
       "  color: #000000;\n",
       "}\n",
       "#T_8ce32_row5_col2 {\n",
       "  background-color: #6384eb;\n",
       "  color: #f1f1f1;\n",
       "}\n",
       "#T_8ce32_row5_col3 {\n",
       "  background-color: #afcafc;\n",
       "  color: #000000;\n",
       "}\n",
       "#T_8ce32_row5_col6 {\n",
       "  background-color: #dadce0;\n",
       "  color: #000000;\n",
       "}\n",
       "#T_8ce32_row6_col0 {\n",
       "  background-color: #d2dbe8;\n",
       "  color: #000000;\n",
       "}\n",
       "#T_8ce32_row6_col2 {\n",
       "  background-color: #abc8fd;\n",
       "  color: #000000;\n",
       "}\n",
       "#T_8ce32_row6_col3 {\n",
       "  background-color: #9bbcff;\n",
       "  color: #000000;\n",
       "}\n",
       "#T_8ce32_row6_col4 {\n",
       "  background-color: #adc9fd;\n",
       "  color: #000000;\n",
       "}\n",
       "</style>\n",
       "<table id=\"T_8ce32\">\n",
       "  <thead>\n",
       "    <tr>\n",
       "      <th class=\"blank level0\" >&nbsp;</th>\n",
       "      <th id=\"T_8ce32_level0_col0\" class=\"col_heading level0 col0\" >Survived</th>\n",
       "      <th id=\"T_8ce32_level0_col1\" class=\"col_heading level0 col1\" >Pclass</th>\n",
       "      <th id=\"T_8ce32_level0_col2\" class=\"col_heading level0 col2\" >Age</th>\n",
       "      <th id=\"T_8ce32_level0_col3\" class=\"col_heading level0 col3\" >Sex_numeric</th>\n",
       "      <th id=\"T_8ce32_level0_col4\" class=\"col_heading level0 col4\" >SibSp</th>\n",
       "      <th id=\"T_8ce32_level0_col5\" class=\"col_heading level0 col5\" >Parch</th>\n",
       "      <th id=\"T_8ce32_level0_col6\" class=\"col_heading level0 col6\" >Fare</th>\n",
       "    </tr>\n",
       "  </thead>\n",
       "  <tbody>\n",
       "    <tr>\n",
       "      <th id=\"T_8ce32_level0_row0\" class=\"row_heading level0 row0\" >Survived</th>\n",
       "      <td id=\"T_8ce32_row0_col0\" class=\"data row0 col0\" >1.000000</td>\n",
       "      <td id=\"T_8ce32_row0_col1\" class=\"data row0 col1\" >-0.356462</td>\n",
       "      <td id=\"T_8ce32_row0_col2\" class=\"data row0 col2\" >-0.082446</td>\n",
       "      <td id=\"T_8ce32_row0_col3\" class=\"data row0 col3\" >0.536762</td>\n",
       "      <td id=\"T_8ce32_row0_col4\" class=\"data row0 col4\" >-0.015523</td>\n",
       "      <td id=\"T_8ce32_row0_col5\" class=\"data row0 col5\" >0.095265</td>\n",
       "      <td id=\"T_8ce32_row0_col6\" class=\"data row0 col6\" >0.266100</td>\n",
       "    </tr>\n",
       "    <tr>\n",
       "      <th id=\"T_8ce32_level0_row1\" class=\"row_heading level0 row1\" >Pclass</th>\n",
       "      <td id=\"T_8ce32_row1_col0\" class=\"data row1 col0\" >-0.356462</td>\n",
       "      <td id=\"T_8ce32_row1_col1\" class=\"data row1 col1\" >1.000000</td>\n",
       "      <td id=\"T_8ce32_row1_col2\" class=\"data row1 col2\" >-0.365902</td>\n",
       "      <td id=\"T_8ce32_row1_col3\" class=\"data row1 col3\" >-0.150826</td>\n",
       "      <td id=\"T_8ce32_row1_col4\" class=\"data row1 col4\" >0.065187</td>\n",
       "      <td id=\"T_8ce32_row1_col5\" class=\"data row1 col5\" >0.023666</td>\n",
       "      <td id=\"T_8ce32_row1_col6\" class=\"data row1 col6\" >-0.552893</td>\n",
       "    </tr>\n",
       "    <tr>\n",
       "      <th id=\"T_8ce32_level0_row2\" class=\"row_heading level0 row2\" >Age</th>\n",
       "      <td id=\"T_8ce32_row2_col0\" class=\"data row2 col0\" >-0.082446</td>\n",
       "      <td id=\"T_8ce32_row2_col1\" class=\"data row2 col1\" >-0.365902</td>\n",
       "      <td id=\"T_8ce32_row2_col2\" class=\"data row2 col2\" >1.000000</td>\n",
       "      <td id=\"T_8ce32_row2_col3\" class=\"data row2 col3\" >-0.099037</td>\n",
       "      <td id=\"T_8ce32_row2_col4\" class=\"data row2 col4\" >-0.307351</td>\n",
       "      <td id=\"T_8ce32_row2_col5\" class=\"data row2 col5\" >-0.187896</td>\n",
       "      <td id=\"T_8ce32_row2_col6\" class=\"data row2 col6\" >0.093143</td>\n",
       "    </tr>\n",
       "    <tr>\n",
       "      <th id=\"T_8ce32_level0_row3\" class=\"row_heading level0 row3\" >Sex_numeric</th>\n",
       "      <td id=\"T_8ce32_row3_col0\" class=\"data row3 col0\" >0.536762</td>\n",
       "      <td id=\"T_8ce32_row3_col1\" class=\"data row3 col1\" >-0.150826</td>\n",
       "      <td id=\"T_8ce32_row3_col2\" class=\"data row3 col2\" >-0.099037</td>\n",
       "      <td id=\"T_8ce32_row3_col3\" class=\"data row3 col3\" >1.000000</td>\n",
       "      <td id=\"T_8ce32_row3_col4\" class=\"data row3 col4\" >0.106296</td>\n",
       "      <td id=\"T_8ce32_row3_col5\" class=\"data row3 col5\" >0.249543</td>\n",
       "      <td id=\"T_8ce32_row3_col6\" class=\"data row3 col6\" >0.182457</td>\n",
       "    </tr>\n",
       "    <tr>\n",
       "      <th id=\"T_8ce32_level0_row4\" class=\"row_heading level0 row4\" >SibSp</th>\n",
       "      <td id=\"T_8ce32_row4_col0\" class=\"data row4 col0\" >-0.015523</td>\n",
       "      <td id=\"T_8ce32_row4_col1\" class=\"data row4 col1\" >0.065187</td>\n",
       "      <td id=\"T_8ce32_row4_col2\" class=\"data row4 col2\" >-0.307351</td>\n",
       "      <td id=\"T_8ce32_row4_col3\" class=\"data row4 col3\" >0.106296</td>\n",
       "      <td id=\"T_8ce32_row4_col4\" class=\"data row4 col4\" >1.000000</td>\n",
       "      <td id=\"T_8ce32_row4_col5\" class=\"data row4 col5\" >0.383338</td>\n",
       "      <td id=\"T_8ce32_row4_col6\" class=\"data row4 col6\" >0.139860</td>\n",
       "    </tr>\n",
       "    <tr>\n",
       "      <th id=\"T_8ce32_level0_row5\" class=\"row_heading level0 row5\" >Parch</th>\n",
       "      <td id=\"T_8ce32_row5_col0\" class=\"data row5 col0\" >0.095265</td>\n",
       "      <td id=\"T_8ce32_row5_col1\" class=\"data row5 col1\" >0.023666</td>\n",
       "      <td id=\"T_8ce32_row5_col2\" class=\"data row5 col2\" >-0.187896</td>\n",
       "      <td id=\"T_8ce32_row5_col3\" class=\"data row5 col3\" >0.249543</td>\n",
       "      <td id=\"T_8ce32_row5_col4\" class=\"data row5 col4\" >0.383338</td>\n",
       "      <td id=\"T_8ce32_row5_col5\" class=\"data row5 col5\" >1.000000</td>\n",
       "      <td id=\"T_8ce32_row5_col6\" class=\"data row5 col6\" >0.206624</td>\n",
       "    </tr>\n",
       "    <tr>\n",
       "      <th id=\"T_8ce32_level0_row6\" class=\"row_heading level0 row6\" >Fare</th>\n",
       "      <td id=\"T_8ce32_row6_col0\" class=\"data row6 col0\" >0.266100</td>\n",
       "      <td id=\"T_8ce32_row6_col1\" class=\"data row6 col1\" >-0.552893</td>\n",
       "      <td id=\"T_8ce32_row6_col2\" class=\"data row6 col2\" >0.093143</td>\n",
       "      <td id=\"T_8ce32_row6_col3\" class=\"data row6 col3\" >0.182457</td>\n",
       "      <td id=\"T_8ce32_row6_col4\" class=\"data row6 col4\" >0.139860</td>\n",
       "      <td id=\"T_8ce32_row6_col5\" class=\"data row6 col5\" >0.206624</td>\n",
       "      <td id=\"T_8ce32_row6_col6\" class=\"data row6 col6\" >1.000000</td>\n",
       "    </tr>\n",
       "  </tbody>\n",
       "</table>\n"
      ],
      "text/plain": [
       "<pandas.io.formats.style.Styler at 0x17157b91350>"
      ]
     },
     "execution_count": 13,
     "metadata": {},
     "output_type": "execute_result"
    }
   ],
   "source": [
    "df['Sex_numeric']= df['Sex'].apply(lambda x:1 if x=='female' else 0)\n",
    "df[['Survived', 'Pclass', 'Age', 'Sex_numeric', 'SibSp', 'Parch', 'Fare']].corr().style.background_gradient(cmap='coolwarm')"
   ]
  },
  {
   "cell_type": "code",
   "execution_count": 14,
   "id": "d29e7d74",
   "metadata": {},
   "outputs": [],
   "source": [
    "from sklearn.model_selection import train_test_split\n",
    "X= df[['Sex_numeric', 'Parch', 'Fare']]\n",
    "y= df['Survived']\n",
    "X_train, X_test, y_train, y_test= train_test_split(X, y, test_size= 0.3, random_state= 42)"
   ]
  },
  {
   "cell_type": "code",
   "execution_count": 15,
   "id": "797b6c4d",
   "metadata": {},
   "outputs": [
    {
     "data": {
      "text/plain": [
       "0.7663551401869159"
      ]
     },
     "execution_count": 15,
     "metadata": {},
     "output_type": "execute_result"
    }
   ],
   "source": [
    "from sklearn.linear_model import LogisticRegression\n",
    "from sklearn.metrics import accuracy_score\n",
    "lr = LogisticRegression()\n",
    "lr.fit(X_train, y_train)\n",
    "y_pred= lr.predict(X_test)\n",
    "from sklearn.metrics import accuracy_score\n",
    "accuracy = accuracy_score(y_test, y_pred)\n",
    "accuracy"
   ]
  },
  {
   "cell_type": "code",
   "execution_count": 16,
   "id": "e8c7edf8",
   "metadata": {},
   "outputs": [
    {
     "data": {
      "text/html": [
       "<div>\n",
       "<style scoped>\n",
       "    .dataframe tbody tr th:only-of-type {\n",
       "        vertical-align: middle;\n",
       "    }\n",
       "\n",
       "    .dataframe tbody tr th {\n",
       "        vertical-align: top;\n",
       "    }\n",
       "\n",
       "    .dataframe thead th {\n",
       "        text-align: right;\n",
       "    }\n",
       "</style>\n",
       "<table border=\"1\" class=\"dataframe\">\n",
       "  <thead>\n",
       "    <tr style=\"text-align: right;\">\n",
       "      <th></th>\n",
       "      <th>0</th>\n",
       "      <th>1</th>\n",
       "    </tr>\n",
       "  </thead>\n",
       "  <tbody>\n",
       "    <tr>\n",
       "      <th>0</th>\n",
       "      <td>104</td>\n",
       "      <td>18</td>\n",
       "    </tr>\n",
       "    <tr>\n",
       "      <th>1</th>\n",
       "      <td>32</td>\n",
       "      <td>60</td>\n",
       "    </tr>\n",
       "  </tbody>\n",
       "</table>\n",
       "</div>"
      ],
      "text/plain": [
       "     0   1\n",
       "0  104  18\n",
       "1   32  60"
      ]
     },
     "execution_count": 16,
     "metadata": {},
     "output_type": "execute_result"
    }
   ],
   "source": [
    "from sklearn.metrics import confusion_matrix\n",
    "conf_matrix = pd.DataFrame(confusion_matrix(y_test, y_pred))\n",
    "conf_matrix"
   ]
  }
 ],
 "metadata": {
  "kernelspec": {
   "display_name": "Python 3 (ipykernel)",
   "language": "python",
   "name": "python3"
  },
  "language_info": {
   "codemirror_mode": {
    "name": "ipython",
    "version": 3
   },
   "file_extension": ".py",
   "mimetype": "text/x-python",
   "name": "python",
   "nbconvert_exporter": "python",
   "pygments_lexer": "ipython3",
   "version": "3.11.7"
  }
 },
 "nbformat": 4,
 "nbformat_minor": 5
}
